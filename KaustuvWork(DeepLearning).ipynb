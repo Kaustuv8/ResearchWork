{
 "cells": [
  {
   "cell_type": "markdown",
   "id": "2ca5d24e",
   "metadata": {},
   "source": [
    "<p1>To use MLP, CNN, RNN, RNN with LSTM</p1>"
   ]
  },
  {
   "cell_type": "code",
   "execution_count": null,
   "id": "c3ac60ce",
   "metadata": {},
   "outputs": [],
   "source": [
    "import pandas as pd\n",
    "import numpy as np\n",
    "from sklearn import linear_model\n",
    "import matplotlib.pyplot as plt\n",
    "from sklearn.model_selection import train_test_split \n",
    "from sklearn.metrics import classification_report\n",
    "from sklearn.metrics import confusion_matrix\n",
    "import seaborn as sn\n",
    "import matplotlib.pyplot as plt\n",
    "from sklearn.decomposition import PCA\n",
    "from sklearn.preprocessing import StandardScaler\n",
    "from sklearn.feature_selection import SelectPercentile, chi2"
   ]
  },
  {
   "cell_type": "code",
   "execution_count": null,
   "id": "f8f4c688",
   "metadata": {},
   "outputs": [],
   "source": [
    "#Function to preprocess the data\n",
    "def PreProc(X, Y):\n",
    "    scaler = StandardScaler().fit(X)\n",
    "    Columns_Scaled = scaler.transform(X)\n",
    "    pca = PCA(n_components = 1000).fit(Columns_Scaled).transform(Columns_Scaled)\n",
    "    Columns_Scaled = pca\n",
    "    return Columns_Scaled"
   ]
  }
 ],
 "metadata": {
  "kernelspec": {
   "display_name": "Python 3 (ipykernel)",
   "language": "python",
   "name": "python3"
  },
  "language_info": {
   "codemirror_mode": {
    "name": "ipython",
    "version": 3
   },
   "file_extension": ".py",
   "mimetype": "text/x-python",
   "name": "python",
   "nbconvert_exporter": "python",
   "pygments_lexer": "ipython3",
   "version": "3.9.12"
  }
 },
 "nbformat": 4,
 "nbformat_minor": 5
}

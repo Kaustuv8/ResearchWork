{
 "cells": [
  {
   "cell_type": "code",
   "execution_count": 4,
   "id": "474e3d91-8ebb-4a62-afdb-f89786015a03",
   "metadata": {},
   "outputs": [
    {
     "name": "stdout",
     "output_type": "stream",
     "text": [
      "Accuracy: 0.99\n",
      "Classification Report:\n",
      "              precision    recall  f1-score   support\n",
      "\n",
      "    NEGATIVE       0.99      0.98      0.99       212\n",
      "     NEUTRAL       1.00      1.00      1.00       215\n",
      "    POSITIVE       0.98      0.99      0.99       213\n",
      "\n",
      "    accuracy                           0.99       640\n",
      "   macro avg       0.99      0.99      0.99       640\n",
      "weighted avg       0.99      0.99      0.99       640\n",
      "\n"
     ]
    }
   ],
   "source": [
    "from sklearn.ensemble import RandomForestClassifier\n",
    "from sklearn.metrics import classification_report, accuracy_score\n",
    "from sklearn.model_selection import train_test_split\n",
    "from sklearn.impute import SimpleImputer\n",
    "from sklearn.preprocessing import LabelEncoder\n",
    "import pandas as pd\n",
    "\n",
    "\n",
    "data = pd.read_csv('emotions.csv')\n",
    "\n",
    "\n",
    "x = data.drop(columns=['label'])\n",
    "y = data['label']\n",
    "\n",
    "\n",
    "imputer = SimpleImputer(strategy='mean')\n",
    "x_imputed = imputer.fit_transform(X)\n",
    "\n",
    "\n",
    "label_encoder = LabelEncoder()\n",
    "y_encoded = label_encoder.fit_transform(y)\n",
    "\n",
    "x_train, x_test, y_train, y_test = train_test_split(x_imputed, y_encoded, test_size=0.3, random_state=57, stratify=y_encoded)\n",
    "\n",
    "\n",
    "rf = RandomForestClassifier(n_estimators=100, random_state=57)  \n",
    "rf.fit(x_train, y_train)\n",
    "\n",
    "\n",
    "y_pred = rf.predict(x_test)\n",
    "\n",
    "\n",
    "accuracy = accuracy_score(y_test, y_pred)\n",
    "classification_rep = classification_report(y_test, y_pred, target_names=label_encoder.classes_)\n",
    "\n",
    "print(f\"Accuracy: {accuracy:.2f}\")\n",
    "print(\"Classification Report:\")\n",
    "print(classification_rep)\n"
   ]
  }
 ],
 "metadata": {
  "kernelspec": {
   "display_name": "Python 3 (ipykernel)",
   "language": "python",
   "name": "python3"
  },
  "language_info": {
   "codemirror_mode": {
    "name": "ipython",
    "version": 3
   },
   "file_extension": ".py",
   "mimetype": "text/x-python",
   "name": "python",
   "nbconvert_exporter": "python",
   "pygments_lexer": "ipython3",
   "version": "3.12.7"
  }
 },
 "nbformat": 4,
 "nbformat_minor": 5
}

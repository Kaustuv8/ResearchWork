{
 "cells": [
  {
   "cell_type": "code",
   "execution_count": 9,
   "id": "2f90c339-c1db-4e3d-a6e9-490894fbd8ad",
   "metadata": {},
   "outputs": [],
   "source": [
    "from sklearn.tree import DecisionTreeClassifier\n",
    "from sklearn.metrics import classification_report, accuracy_score\n",
    "from sklearn.model_selection import train_test_split\n",
    "from sklearn.impute import SimpleImputer\n",
    "from sklearn.preprocessing import LabelEncoder\n",
    "import pandas as pd\n",
    "from sklearn.metrics import accuracy_score\n",
    "from sklearn.preprocessing import StandardScaler"
   ]
  },
  {
   "cell_type": "code",
   "execution_count": 11,
   "id": "3de24631-db43-43b9-ab3f-fcfc2325996c",
   "metadata": {},
   "outputs": [
    {
     "name": "stdout",
     "output_type": "stream",
     "text": [
      "Accuracy: 0.95\n"
     ]
    }
   ],
   "source": [
    "data = pd.read_csv('emotions.csv')\n",
    "x = data.drop(columns=['label'])\n",
    "y = data['label']\n",
    "imputer = SimpleImputer(strategy='mean')\n",
    "x_imputed = imputer.fit_transform(x)\n",
    "label_encoder = LabelEncoder()\n",
    "y_encoded = label_encoder.fit_transform(y)\n",
    "x_train, x_test, y_train, y_test = train_test_split(x_imputed, y_encoded, test_size=0.3, random_state=57, stratify=y_encoded)\n",
    "clf = DecisionTreeClassifier(random_state = 57)\n",
    "clf.fit(x_train, y_train)\n",
    "y_pred = clf.predict(x_test)\n",
    "accuracy = accuracy_score(y_test, y_pred)\n",
    "print(f\"Accuracy: {accuracy:.2f}\")"
   ]
  },
  {
   "cell_type": "markdown",
   "id": "209423ef-a64f-474b-a7a4-b893fc00dfa1",
   "metadata": {},
   "source": [
    "With z score normalization, 94% accuracy is achieved, and without z score normalization, an accuracy of 95% is achieved\n"
   ]
  },
  {
   "cell_type": "code",
   "execution_count": null,
   "id": "d2a7a80b-a2bf-42f8-93ce-753bdfe53f0c",
   "metadata": {},
   "outputs": [],
   "source": []
  }
 ],
 "metadata": {
  "kernelspec": {
   "display_name": "Python 3 (ipykernel)",
   "language": "python",
   "name": "python3"
  },
  "language_info": {
   "codemirror_mode": {
    "name": "ipython",
    "version": 3
   },
   "file_extension": ".py",
   "mimetype": "text/x-python",
   "name": "python",
   "nbconvert_exporter": "python",
   "pygments_lexer": "ipython3",
   "version": "3.12.7"
  }
 },
 "nbformat": 4,
 "nbformat_minor": 5
}
